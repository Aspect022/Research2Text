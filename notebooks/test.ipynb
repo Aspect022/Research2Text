{
 "cells": [
  {
   "cell_type": "code",
   "id": "initial_id",
   "metadata": {
    "collapsed": true,
    "ExecuteTime": {
     "end_time": "2025-10-01T18:52:19.692417Z",
     "start_time": "2025-10-01T18:52:19.676181Z"
    }
   },
   "source": "import ollama",
   "outputs": [],
   "execution_count": 10
  },
  {
   "metadata": {
    "ExecuteTime": {
     "end_time": "2025-10-01T18:52:30.677782Z",
     "start_time": "2025-10-01T18:52:24.868521Z"
    }
   },
   "cell_type": "code",
   "source": [
    "response = ollama.chat(\n",
    "    model=\"gpt-oss:120b-cloud\",\n",
    "    messages=[\n",
    "        {\"role\": \"system\", \"content\": \"You are a helpful assistant.\"},\n",
    "        {\"role\": \"user\", \"content\": \"Explain quantum computing in simple terms.\"}\n",
    "    ]\n",
    ")\n",
    "\n",
    "print(response)"
   ],
   "id": "e08bd007f5d52f4e",
   "outputs": [
    {
     "name": "stdout",
     "output_type": "stream",
     "text": [
      "model='gpt-oss:120b-cloud' created_at='2025-10-01T18:52:29.394474646Z' done=True done_reason=None total_duration=5180166764 load_duration=None prompt_eval_count=71 prompt_eval_duration=None eval_count=861 eval_duration=None message=Message(role='assistant', content='**Quantum computing** is a new kind of computing that uses the weird rules of quantum physics to process information in ways that ordinary (classical) computers can’t. Here’s a simple way to think about it:\\n\\n---\\n\\n### 1. Bits vs. Qubits  \\n- **Classical computer:** works with **bits** that are either **0** or **1**.  \\n- **Quantum computer:** works with **qubits** that can be **0, 1, or both at the same time**.\\n\\nThe “both at the same time” part comes from a quantum property called **superposition**. Imagine a spinning coin: while it’s in the air it isn’t simply heads *or* tails—it’s sort of both until it lands. A qubit is like that spinning coin, holding many possibilities simultaneously.\\n\\n---\\n\\n### 2. Entanglement – The “spooky” link  \\nWhen two qubits become **entangled**, the state of one instantly influences the state of the other, no matter how far apart they are. It’s as if you have a pair of magic dice that always show matching numbers; you don’t need to check both—knowing one tells you the other.\\n\\nEntanglement lets quantum computers coordinate many qubits together in a way that gives them huge computational power.\\n\\n---\\n\\n### 3. Interference – Reinforcing the right answer  \\nQuantum computers can make the many possible answers from superposition **interfere** with each other—some possibilities cancel out (like two waves that are opposite), while the correct answers reinforce each other. By cleverly setting up the problem, the computer nudges the probability toward the right solution.\\n\\n---\\n\\n### 4. Why it matters  \\n- **Speed for certain problems:** For tasks like factoring large numbers, searching unsorted databases, or simulating molecules, a quantum computer can solve them exponentially faster than the best classical algorithms we know.\\n- **New possibilities:** Simulating quantum chemistry could lead to better drugs, more efficient batteries, and novel materials.\\n\\n---\\n\\n### 5. A simple analogy: Parallel paths in a maze  \\n\\n1. **Classical computer:** A single explorer walks through the maze step‑by‑step, trying each path one at a time.  \\n2. **Quantum computer:** Imagine the explorer can split into many copies, each trying a different path at the same time (superposition). The copies are linked so that once they find a dead‑end, they cancel each other out, while the path that leads to the exit is amplified (interference). In the end, the explorer emerges knowing the correct route without having tried every path sequentially.\\n\\n---\\n\\n### 6. Current state  \\n\\n- **Small‑scale machines:** Today we have quantum processors with tens to a few hundred noisy qubits (called NISQ devices). They can demonstrate basic quantum algorithms but aren’t yet powerful enough for large, practical tasks.\\n- **Challenges:** Qubits are fragile; they lose their quantum properties (decoherence) quickly. Building reliable, error‑corrected quantum computers requires many more qubits and sophisticated engineering.\\n\\n---\\n\\n### 7. Bottom‑line summary  \\n\\n| Classical Computer | Quantum Computer |\\n|--------------------|------------------|\\n| Bits are 0 **or** 1 | Qubits are 0 **and** 1 (superposition) |\\n| No built‑in link between bits | Qubits can be entangled (instant correlation) |\\n| Processes one combination at a time | Processes many combinations simultaneously, then uses interference to pick the right one |\\n| Good for everyday tasks | Potentially revolutionary for specific, hard problems |\\n\\nIn plain language: **Quantum computing is like giving a computer the ability to explore countless possibilities all at once and magically zero in on the right answer, thanks to the strange rules of the quantum world**. It’s still early days, but the promise is big enough that researchers, companies, and governments are investing heavily to make it a reality.', thinking='We need to follow policy. The user asks: \"Explain quantum computing in simple terms.\" That\\'s allowed. Provide a simple explanation. No disallowed content. Use clear language, analogies. Provide final answer.', images=None, tool_name=None, tool_calls=None)\n"
     ]
    }
   ],
   "execution_count": 11
  },
  {
   "metadata": {
    "ExecuteTime": {
     "end_time": "2025-10-01T18:36:16.053512Z",
     "start_time": "2025-10-01T18:36:16.048062Z"
    }
   },
   "cell_type": "code",
   "source": [
    "import langchain\n",
    "print(langchain.__version__)\n"
   ],
   "id": "b93d1eb96c4bc585",
   "outputs": [
    {
     "name": "stdout",
     "output_type": "stream",
     "text": [
      "0.3.27\n"
     ]
    }
   ],
   "execution_count": 3
  },
  {
   "metadata": {},
   "cell_type": "code",
   "outputs": [],
   "execution_count": null,
   "source": "",
   "id": "ac2bb195ef339932"
  }
 ],
 "metadata": {
  "kernelspec": {
   "display_name": "Research2Text",
   "language": "python",
   "name": "research2text"
  },
  "language_info": {
   "codemirror_mode": {
    "name": "ipython",
    "version": 2
   },
   "file_extension": ".py",
   "mimetype": "text/x-python",
   "name": "python",
   "nbconvert_exporter": "python",
   "pygments_lexer": "ipython2",
   "version": "2.7.6"
  }
 },
 "nbformat": 4,
 "nbformat_minor": 5
}
